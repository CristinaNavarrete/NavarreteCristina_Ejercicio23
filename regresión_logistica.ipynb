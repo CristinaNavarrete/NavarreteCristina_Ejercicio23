{
 "cells": [
  {
   "cell_type": "code",
   "execution_count": 1,
   "metadata": {},
   "outputs": [],
   "source": [
    "import numpy as np # linear algebra\n",
    "import pandas as pd # data processing, CSV file I/O (e.g. pd.read_csv)\n",
    "\n",
    "import matplotlib.pyplot as plt\n",
    "\n",
    "\n",
    "import time\n",
    "start_time = time.time()"
   ]
  },
  {
   "cell_type": "code",
   "execution_count": 4,
   "metadata": {},
   "outputs": [],
   "source": [
    "df2 = pd.read_csv('roboBohr1_1.csv')\n",
    "df3 = pd.read_csv('roboBohr2.csv')\n",
    "df4 = pd.read_csv('roboBohr2_2.csv')"
   ]
  },
  {
   "cell_type": "code",
   "execution_count": 5,
   "metadata": {},
   "outputs": [
    {
     "name": "stdout",
     "output_type": "stream",
     "text": [
      "(12140, 1278)\n"
     ]
    }
   ],
   "source": [
    "df=pd.concat([df2, df3, df4], ignore_index=True)\n",
    "print(df.shape)"
   ]
  },
  {
   "cell_type": "code",
   "execution_count": 6,
   "metadata": {},
   "outputs": [
    {
     "data": {
      "text/plain": [
       "Index(['Unnamed: 0', '0', '1', '2', '3', '4', '5', '6', '7', '8',\n",
       "       ...\n",
       "       '1267', '1268', '1269', '1270', '1271', '1272', '1273', '1274',\n",
       "       'pubchem_id', 'Eat'],\n",
       "      dtype='object', length=1278)"
      ]
     },
     "execution_count": 6,
     "metadata": {},
     "output_type": "execute_result"
    }
   ],
   "source": [
    "df.columns"
   ]
  },
  {
   "cell_type": "code",
   "execution_count": 7,
   "metadata": {},
   "outputs": [
    {
     "data": {
      "text/plain": [
       "0"
      ]
     },
     "execution_count": 7,
     "metadata": {},
     "output_type": "execute_result"
    }
   ],
   "source": [
    "df.isnull().sum().sum()"
   ]
  },
  {
   "cell_type": "code",
   "execution_count": 8,
   "metadata": {},
   "outputs": [
    {
     "data": {
      "text/html": [
       "<div>\n",
       "<style scoped>\n",
       "    .dataframe tbody tr th:only-of-type {\n",
       "        vertical-align: middle;\n",
       "    }\n",
       "\n",
       "    .dataframe tbody tr th {\n",
       "        vertical-align: top;\n",
       "    }\n",
       "\n",
       "    .dataframe thead th {\n",
       "        text-align: right;\n",
       "    }\n",
       "</style>\n",
       "<table border=\"1\" class=\"dataframe\">\n",
       "  <thead>\n",
       "    <tr style=\"text-align: right;\">\n",
       "      <th></th>\n",
       "      <th>Unnamed: 0</th>\n",
       "      <th>0</th>\n",
       "      <th>1</th>\n",
       "      <th>2</th>\n",
       "      <th>3</th>\n",
       "      <th>4</th>\n",
       "      <th>5</th>\n",
       "      <th>6</th>\n",
       "      <th>7</th>\n",
       "      <th>8</th>\n",
       "      <th>...</th>\n",
       "      <th>1267</th>\n",
       "      <th>1268</th>\n",
       "      <th>1269</th>\n",
       "      <th>1270</th>\n",
       "      <th>1271</th>\n",
       "      <th>1272</th>\n",
       "      <th>1273</th>\n",
       "      <th>1274</th>\n",
       "      <th>pubchem_id</th>\n",
       "      <th>Eat</th>\n",
       "    </tr>\n",
       "  </thead>\n",
       "  <tbody>\n",
       "    <tr>\n",
       "      <th>0</th>\n",
       "      <td>4110</td>\n",
       "      <td>73.516695</td>\n",
       "      <td>20.602933</td>\n",
       "      <td>20.596338</td>\n",
       "      <td>20.595588</td>\n",
       "      <td>16.056751</td>\n",
       "      <td>16.056238</td>\n",
       "      <td>16.022466</td>\n",
       "      <td>16.021800</td>\n",
       "      <td>14.142769</td>\n",
       "      <td>...</td>\n",
       "      <td>0.0</td>\n",
       "      <td>0.0</td>\n",
       "      <td>0.0</td>\n",
       "      <td>0.0</td>\n",
       "      <td>0.0</td>\n",
       "      <td>0.0</td>\n",
       "      <td>0.0</td>\n",
       "      <td>0.0</td>\n",
       "      <td>49925</td>\n",
       "      <td>-15.312720</td>\n",
       "    </tr>\n",
       "    <tr>\n",
       "      <th>1</th>\n",
       "      <td>4111</td>\n",
       "      <td>73.516695</td>\n",
       "      <td>23.950783</td>\n",
       "      <td>20.757209</td>\n",
       "      <td>19.688637</td>\n",
       "      <td>18.585780</td>\n",
       "      <td>17.540328</td>\n",
       "      <td>15.145275</td>\n",
       "      <td>15.040255</td>\n",
       "      <td>14.671397</td>\n",
       "      <td>...</td>\n",
       "      <td>0.0</td>\n",
       "      <td>0.0</td>\n",
       "      <td>0.0</td>\n",
       "      <td>0.0</td>\n",
       "      <td>0.0</td>\n",
       "      <td>0.0</td>\n",
       "      <td>0.0</td>\n",
       "      <td>0.0</td>\n",
       "      <td>49929</td>\n",
       "      <td>-9.456850</td>\n",
       "    </tr>\n",
       "    <tr>\n",
       "      <th>2</th>\n",
       "      <td>4112</td>\n",
       "      <td>73.516695</td>\n",
       "      <td>23.953029</td>\n",
       "      <td>20.753943</td>\n",
       "      <td>19.686836</td>\n",
       "      <td>18.629532</td>\n",
       "      <td>17.595541</td>\n",
       "      <td>15.162607</td>\n",
       "      <td>15.039647</td>\n",
       "      <td>14.658470</td>\n",
       "      <td>...</td>\n",
       "      <td>0.0</td>\n",
       "      <td>0.0</td>\n",
       "      <td>0.0</td>\n",
       "      <td>0.0</td>\n",
       "      <td>0.0</td>\n",
       "      <td>0.0</td>\n",
       "      <td>0.0</td>\n",
       "      <td>0.0</td>\n",
       "      <td>49930</td>\n",
       "      <td>-7.056152</td>\n",
       "    </tr>\n",
       "    <tr>\n",
       "      <th>3</th>\n",
       "      <td>4113</td>\n",
       "      <td>388.023441</td>\n",
       "      <td>46.641230</td>\n",
       "      <td>46.638158</td>\n",
       "      <td>41.508833</td>\n",
       "      <td>28.781334</td>\n",
       "      <td>18.691794</td>\n",
       "      <td>13.501865</td>\n",
       "      <td>13.498868</td>\n",
       "      <td>13.364285</td>\n",
       "      <td>...</td>\n",
       "      <td>0.0</td>\n",
       "      <td>0.0</td>\n",
       "      <td>0.0</td>\n",
       "      <td>0.0</td>\n",
       "      <td>0.0</td>\n",
       "      <td>0.0</td>\n",
       "      <td>0.0</td>\n",
       "      <td>0.0</td>\n",
       "      <td>49935</td>\n",
       "      <td>-6.913035</td>\n",
       "    </tr>\n",
       "    <tr>\n",
       "      <th>4</th>\n",
       "      <td>4114</td>\n",
       "      <td>388.023441</td>\n",
       "      <td>46.643049</td>\n",
       "      <td>46.639141</td>\n",
       "      <td>41.510881</td>\n",
       "      <td>28.776254</td>\n",
       "      <td>18.690056</td>\n",
       "      <td>13.501840</td>\n",
       "      <td>13.498889</td>\n",
       "      <td>13.364049</td>\n",
       "      <td>...</td>\n",
       "      <td>0.0</td>\n",
       "      <td>0.0</td>\n",
       "      <td>0.0</td>\n",
       "      <td>0.0</td>\n",
       "      <td>0.0</td>\n",
       "      <td>0.0</td>\n",
       "      <td>0.0</td>\n",
       "      <td>0.0</td>\n",
       "      <td>49937</td>\n",
       "      <td>-9.323680</td>\n",
       "    </tr>\n",
       "  </tbody>\n",
       "</table>\n",
       "<p>5 rows × 1278 columns</p>\n",
       "</div>"
      ],
      "text/plain": [
       "   Unnamed: 0           0          1          2          3          4  \\\n",
       "0        4110   73.516695  20.602933  20.596338  20.595588  16.056751   \n",
       "1        4111   73.516695  23.950783  20.757209  19.688637  18.585780   \n",
       "2        4112   73.516695  23.953029  20.753943  19.686836  18.629532   \n",
       "3        4113  388.023441  46.641230  46.638158  41.508833  28.781334   \n",
       "4        4114  388.023441  46.643049  46.639141  41.510881  28.776254   \n",
       "\n",
       "           5          6          7          8  ...  1267  1268  1269  1270  \\\n",
       "0  16.056238  16.022466  16.021800  14.142769  ...   0.0   0.0   0.0   0.0   \n",
       "1  17.540328  15.145275  15.040255  14.671397  ...   0.0   0.0   0.0   0.0   \n",
       "2  17.595541  15.162607  15.039647  14.658470  ...   0.0   0.0   0.0   0.0   \n",
       "3  18.691794  13.501865  13.498868  13.364285  ...   0.0   0.0   0.0   0.0   \n",
       "4  18.690056  13.501840  13.498889  13.364049  ...   0.0   0.0   0.0   0.0   \n",
       "\n",
       "   1271  1272  1273  1274  pubchem_id        Eat  \n",
       "0   0.0   0.0   0.0   0.0       49925 -15.312720  \n",
       "1   0.0   0.0   0.0   0.0       49929  -9.456850  \n",
       "2   0.0   0.0   0.0   0.0       49930  -7.056152  \n",
       "3   0.0   0.0   0.0   0.0       49935  -6.913035  \n",
       "4   0.0   0.0   0.0   0.0       49937  -9.323680  \n",
       "\n",
       "[5 rows x 1278 columns]"
      ]
     },
     "execution_count": 8,
     "metadata": {},
     "output_type": "execute_result"
    }
   ],
   "source": [
    "df.head(5)"
   ]
  },
  {
   "cell_type": "code",
   "execution_count": 9,
   "metadata": {},
   "outputs": [
    {
     "data": {
      "text/plain": [
       "count    12140.000000\n",
       "mean       -10.739811\n",
       "std          3.611459\n",
       "min        -23.245373\n",
       "25%        -12.849278\n",
       "50%        -10.351575\n",
       "75%         -8.270909\n",
       "max         -0.789513\n",
       "Name: Eat, dtype: float64"
      ]
     },
     "execution_count": 9,
     "metadata": {},
     "output_type": "execute_result"
    }
   ],
   "source": [
    "df.Eat.describe()"
   ]
  },
  {
   "cell_type": "markdown",
   "metadata": {},
   "source": [
    "# Para poner un target en clases y no tener un modelo de regresión sino convertirlo en uno de clasificación vamos a establecer clases dependiendo del valor de la energía de atomización "
   ]
  },
  {
   "cell_type": "code",
   "execution_count": 10,
   "metadata": {},
   "outputs": [
    {
     "name": "stdout",
     "output_type": "stream",
     "text": [
      "[-23.2453726199999, -18.75420256446884, -14.263030263351629, -9.77185796223442, -5.280685661117211, -0.7895133600000008]\n"
     ]
    }
   ],
   "source": [
    "#Creación del vector. La resolución que tiene el valor del traget es de 6 cifras decimales por ello,\n",
    "#tomaremos la cantidad de puntos similares 10000000\n",
    "E_at=np.linspace(df.Eat.min(), df.Eat.max(), num=10000000)\n",
    "#n_class es la cantidad de clases que vamos a tener para clasificar\n",
    "n_class=5  \n",
    "cantidad=int(len(E_at)/(n_class))\n",
    "v_min=df.Eat.min()\n",
    "v_max=df.Eat.max()\n",
    "#El vector de definición de rango de las clases\n",
    "E_at_limits=[]\n",
    "E_at_limits.append(v_min)\n",
    "for i in range(n_class):\n",
    "    E_at_limits.append(E_at[cantidad*(i+1)-1])\n",
    "print(E_at_limits)\n",
    "\n",
    "#Ahora vamos a crear el vector target de las clases \n",
    "n_filas=df.shape[0]\n",
    "E_target=np.ones(n_filas)\n",
    "for i in range(n_filas):\n",
    "    inst=df.Eat[i]\n",
    "    for j in range(n_class-1):\n",
    "        if inst>=round(E_at_limits[j],6) and inst<round(E_at_limits[j+1],6):\n",
    "            E_target[i]=int(j)\n",
    "    if inst>=round(E_at_limits[n_class-1],6) and inst<round(E_at_limits[n_class],6):\n",
    "        E_target[i]=int(n_class-1)"
   ]
  },
  {
   "cell_type": "code",
   "execution_count": 11,
   "metadata": {},
   "outputs": [],
   "source": [
    "#Eliminando la col Y numérica \n",
    "Y=df['Eat']\n",
    "df = df.drop(['Eat'], axis = 1)\n",
    "\n",
    "import numpy as np\n",
    "import time\n",
    "import matplotlib.pyplot as plt\n",
    "\n",
    "import sklearn.datasets as skdata\n",
    "from sklearn.datasets import fetch_openml\n",
    "from sklearn.linear_model import LogisticRegression\n",
    "from sklearn.model_selection import train_test_split\n",
    "from sklearn.preprocessing import StandardScaler\n",
    "from sklearn.utils import check_random_state\n",
    "\n",
    "%matplotlib inline"
   ]
  },
  {
   "cell_type": "code",
   "execution_count": 12,
   "metadata": {},
   "outputs": [],
   "source": [
    "x_train, x_test, y_train, y_test = train_test_split(df, E_target, test_size=0.5)"
   ]
  },
  {
   "cell_type": "code",
   "execution_count": 13,
   "metadata": {},
   "outputs": [],
   "source": [
    "t0 = time.time() #Estos parámetros son con los pasos que tomará para convergencia por descenso de gradiente que es como funciona la regresión logística\n",
    "train_samples = 200\n",
    "\n",
    "scaler = StandardScaler() #Normalizar los datos\n",
    "x_train = scaler.fit_transform(x_train)\n",
    "x_test = scaler.transform(x_test)"
   ]
  },
  {
   "cell_type": "markdown",
   "metadata": {},
   "source": [
    "# Con penalización L1"
   ]
  },
  {
   "cell_type": "code",
   "execution_count": 25,
   "metadata": {},
   "outputs": [
    {
     "data": {
      "text/plain": [
       "LogisticRegression(C=0.25, class_weight=None, dual=False, fit_intercept=True,\n",
       "                   intercept_scaling=1, l1_ratio=None, max_iter=100,\n",
       "                   multi_class='auto', n_jobs=None, penalty='l1',\n",
       "                   random_state=None, solver='saga', tol=0.01, verbose=0,\n",
       "                   warm_start=False)"
      ]
     },
     "execution_count": 25,
     "metadata": {},
     "output_type": "execute_result"
    }
   ],
   "source": [
    "clf = LogisticRegression(C=50. / train_samples, penalty='l1', solver='saga', tol=0.01,multi_class='auto')# Modelo \n",
    "clf"
   ]
  },
  {
   "cell_type": "code",
   "execution_count": 26,
   "metadata": {},
   "outputs": [
    {
     "name": "stdout",
     "output_type": "stream",
     "text": [
      "Sparsity with L1 penalty: 18.45%\n",
      "Test score with L1 penalty: 0.9262\n"
     ]
    }
   ],
   "source": [
    "clf.fit(x_train, y_train)\n",
    "sparsity = np.mean(clf.coef_ == 0) * 100\n",
    "score = clf.score(x_test, y_test)\n",
    "# print('Best C % .4f' % clf.C_)\n",
    "print(\"Sparsity with L1 penalty: %.2f%%\" % sparsity)\n",
    "print(\"Test score with L1 penalty: %.4f\" % score)"
   ]
  },
  {
   "cell_type": "code",
   "execution_count": 27,
   "metadata": {},
   "outputs": [],
   "source": [
    "coef = clf.coef_.copy()\n",
    "n_cols=df.shape[1]\n",
    "plt.figure(figsize=(10, 5))\n",
    "scale = np.abs(coef).max()\n",
    "for i in range(5):\n",
    "    l1_plot = plt.subplot(2, 5, i + 1)\n",
    "    l1_plot.plot(range(n_cols),coef[i])\n",
    "    l1_plot.set_xticks(())\n",
    "    l1_plot.set_yticks(())\n",
    "    l1_plot.set_xlabel('Class %i' % i)\n",
    "plt.suptitle('Coeficientes de las clases')\n",
    "plt.savefig('coeficientes.png')\n",
    "run_time = time.time() - t0\n",
    "print('Example run in %.3f s' % run_time)\n",
    "# Plot non-normalized confusion matrixplt.show()"
   ]
  },
  {
   "cell_type": "markdown",
   "metadata": {},
   "source": [
    "## Parece que no hay cambio en el peso de los beta respecto a la penalización"
   ]
  },
  {
   "cell_type": "markdown",
   "metadata": {},
   "source": [
    "# Ahora probamos penalización L2"
   ]
  },
  {
   "cell_type": "code",
   "execution_count": 28,
   "metadata": {},
   "outputs": [
    {
     "data": {
      "text/plain": [
       "LogisticRegression(C=0.25, class_weight=None, dual=False, fit_intercept=True,\n",
       "                   intercept_scaling=1, l1_ratio=None, max_iter=100,\n",
       "                   multi_class='auto', n_jobs=None, penalty='l2',\n",
       "                   random_state=None, solver='saga', tol=0.01, verbose=0,\n",
       "                   warm_start=False)"
      ]
     },
     "execution_count": 28,
     "metadata": {},
     "output_type": "execute_result"
    }
   ],
   "source": [
    "clf1 = LogisticRegression(C=50. / train_samples, penalty='l2', solver='saga', tol=0.01,multi_class='auto')# Modelo \n",
    "clf1"
   ]
  },
  {
   "cell_type": "code",
   "execution_count": 30,
   "metadata": {},
   "outputs": [
    {
     "name": "stdout",
     "output_type": "stream",
     "text": [
      "Sparsity with L2 penalty: 0.00%\n",
      "Test score with L2 penalty: 0.9269\n"
     ]
    }
   ],
   "source": [
    "clf1.fit(x_train, y_train)\n",
    "sparsity = np.mean(clf1.coef_ == 0) * 100\n",
    "score = clf1.score(x_test, y_test)\n",
    "# print('Best C % .4f' % clf.C_)\n",
    "print(\"Sparsity with L2 penalty: %.2f%%\" % sparsity)\n",
    "print(\"Test score with L2 penalty: %.4f\" % score)"
   ]
  },
  {
   "cell_type": "code",
   "execution_count": 31,
   "metadata": {},
   "outputs": [
    {
     "name": "stdout",
     "output_type": "stream",
     "text": [
      "Example run in 657.036 s\n"
     ]
    },
    {
     "data": {
      "image/png": "[encoded data removed]",
      "text/plain": [
       "<Figure size 720x360 with 5 Axes>"
      ]
     },
     "metadata": {},
     "output_type": "display_data"
    }
   ],
   "source": [
    "coef1 = clf1.coef_.copy()\n",
    "n_cols=df.shape[1]\n",
    "plt.figure(figsize=(10, 5))\n",
    "scale = np.abs(coef1).max()\n",
    "for i in range(5):\n",
    "    l1_plot = plt.subplot(2, 5, i + 1)\n",
    "    l1_plot.plot(range(n_cols),coef1[i])\n",
    "    l1_plot.set_xticks(())\n",
    "    l1_plot.set_yticks(())\n",
    "    l1_plot.set_xlabel('Class %i' % i)\n",
    "plt.suptitle('Coeficientes de las clases')\n",
    "plt.savefig('coeficientesl2.png')\n",
    "run_time = time.time() - t0\n",
    "9print('Example run in %.3f s' % run_time)\n",
    "# Plot non-normalized confusion matrixplt.show()"
   ]
  },
  {
   "cell_type": "markdown",
   "metadata": {},
   "source": [
    "## Comparando los dos valores F1 para l1 y l2 con el mismo C"
   ]
  },
  {
   "cell_type": "code",
   "execution_count": 35,
   "metadata": {},
   "outputs": [
    {
     "name": "stdout",
     "output_type": "stream",
     "text": [
      "el valor de F1 para penalización l1 es 0.9261943986820428\n",
      "el valor de F1 para penalización l1 es 0.9268533772652389\n"
     ]
    }
   ],
   "source": [
    "from sklearn.metrics import f1_score\n",
    "\n",
    "f1_l1=f1_score(y_test, clf.predict(x_test), average='micro')\n",
    "f1_l2=f1_score(y_test, clf1.predict(x_test), average='micro')\n",
    "print(\"el valor de F1 para penalización l1 es \"+ str(f1_l1))\n",
    "print(\"el valor de F1 para penalización l1 es \"+ str(f1_l2))"
   ]
  },
  {
   "cell_type": "markdown",
   "metadata": {},
   "source": [
    "# Variando C desde 10^-5 hasta 10^2"
   ]
  },
  {
   "cell_type": "code",
   "execution_count": 45,
   "metadata": {},
   "outputs": [
    {
     "ename": "SyntaxError",
     "evalue": "invalid syntax (<ipython-input-45-fa7e637d68f9>, line 8)",
     "output_type": "error",
     "traceback": [
      "\u001b[0;36m  File \u001b[0;32m\"<ipython-input-45-fa7e637d68f9>\"\u001b[0;36m, line \u001b[0;32m8\u001b[0m\n\u001b[0;31m    clf = LogisticRegression(Ci./ train_samples, penalty='l1', solver='saga', tol=0.01,multi_class='auto')# Modelo\u001b[0m\n\u001b[0m                                ^\u001b[0m\n\u001b[0;31mSyntaxError\u001b[0m\u001b[0;31m:\u001b[0m invalid syntax\n"
     ]
    }
   ],
   "source": [
    "n_puntos=8\n",
    "C=np.logspace(-5,2,n_puntos)\n",
    "F1_l1=[]\n",
    "F1_l2=[]\n",
    "clf = LogisticRegression(30./train_samples, penalty='l1', solver='saga', tol=0.01,multi_class='auto')# Modelo \n",
    "for i in range(n_puntos):\n",
    "    Ci=C[i]\n",
    "    clf = LogisticRegression(Ci./ train_samples, penalty='l1', solver='saga', tol=0.01,multi_class='auto')# Modelo \n",
    "    clf1 = LogisticRegression(Ci./ train_samples, penalty='l2', solver='saga', tol=0.01,multi_class='auto')# Modelo \n",
    "    \n",
    "    clf.fit(x_train, y_train)\n",
    "    clf1.fit(x_train, y_train)\n",
    "    \n",
    "    f1_l1=f1_score(y_test, clf.predict(x_test), average='micro')\n",
    "    f1_l2=f1_score(y_test, clf1.predict(x_test), average='micro')\n",
    "    \n",
    "    F1_l1.append(f1_l1)\n",
    "    F1_l2.append(f2_l2)\n",
    "    "
   ]
  },
  {
   "cell_type": "code",
   "execution_count": 46,
   "metadata": {},
   "outputs": [
    {
     "data": {
      "text/plain": [
       "0.15"
      ]
     },
     "execution_count": 46,
     "metadata": {},
     "output_type": "execute_result"
    }
   ],
   "source": [
    "30./train_samples"
   ]
  },
  {
   "cell_type": "code",
   "execution_count": 50,
   "metadata": {},
   "outputs": [
    {
     "ename": "NameError",
     "evalue": "name 'decimal' is not defined",
     "output_type": "error",
     "traceback": [
      "\u001b[0;31m---------------------------------------------------------------------------\u001b[0m",
      "\u001b[0;31mNameError\u001b[0m                                 Traceback (most recent call last)",
      "\u001b[0;32m<ipython-input-50-45bb744fb9bf>\u001b[0m in \u001b[0;36m<module>\u001b[0;34m\u001b[0m\n\u001b[1;32m      1\u001b[0m \u001b[0;32mfrom\u001b[0m \u001b[0mdecimal\u001b[0m \u001b[0;32mimport\u001b[0m \u001b[0;34m*\u001b[0m\u001b[0;34m\u001b[0m\u001b[0;34m\u001b[0m\u001b[0m\n\u001b[0;32m----> 2\u001b[0;31m \u001b[0mdecimal\u001b[0m\u001b[0;34m(\u001b[0m\u001b[0mC\u001b[0m\u001b[0;34m[\u001b[0m\u001b[0;36m0\u001b[0m\u001b[0;34m]\u001b[0m\u001b[0;34m)\u001b[0m\u001b[0;34m\u001b[0m\u001b[0;34m\u001b[0m\u001b[0m\n\u001b[0m",
      "\u001b[0;31mNameError\u001b[0m: name 'decimal' is not defined"
     ]
    }
   ],
   "source": [
    "from decimal import *\n",
    "decimal(C[0])"
   ]
  },
  {
   "cell_type": "code",
   "execution_count": null,
   "metadata": {},
   "outputs": [],
   "source": []
  }
 ],
 "metadata": {
  "kernelspec": {
   "display_name": "Python 3",
   "language": "python",
   "name": "python3"
  },
  "language_info": {
   "codemirror_mode": {
    "name": "ipython",
    "version": 3
   },
   "file_extension": ".py",
   "mimetype": "text/x-python",
   "name": "python",
   "nbconvert_exporter": "python",
   "pygments_lexer": "ipython3",
   "version": "3.7.6"
  }
 },
 "nbformat": 4,
 "nbformat_minor": 4
}
